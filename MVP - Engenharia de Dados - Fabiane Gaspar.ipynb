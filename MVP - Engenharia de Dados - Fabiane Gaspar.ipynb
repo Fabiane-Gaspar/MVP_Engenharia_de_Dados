{
 "cells": [
  {
   "cell_type": "markdown",
   "metadata": {
    "application/vnd.databricks.v1+cell": {
     "cellMetadata": {
      "byteLimit": 2048000,
      "rowLimit": 10000
     },
     "inputWidgets": {},
     "nuid": "96816ed7-b08a-4ca3-abb9-f99880c3535d",
     "showTitle": false,
     "tableResultSettingsMap": {},
     "title": ""
    }
   },
   "source": [
    "\n",
    "## MVP Engenharia de Dados\n"
   ]
  },
  {
   "cell_type": "markdown",
   "metadata": {
    "application/vnd.databricks.v1+cell": {
     "cellMetadata": {
      "byteLimit": 2048000,
      "rowLimit": 10000
     },
     "inputWidgets": {},
     "nuid": "67a76bcd-0dec-4f9b-86ab-98fad0976f33",
     "showTitle": false,
     "tableResultSettingsMap": {},
     "title": ""
    }
   },
   "source": [
    "Objetivo do MVP: Análise de Resíduos Plásticos Globais\n",
    "# **1.** Objetivo Principal\n",
    "Desenvolver um MVP de análise de dados para entender os padrões de geração, gestão e impacto ambiental de resíduos plásticos em escala global, com foco em:\n",
    "\n",
    "-Identificar os maiores poluidores\n",
    "\n",
    "-Avaliar eficiência de reciclagem\n",
    "\n",
    "-Mapear riscos ambientais costeiros\n",
    "\n",
    "-Propor insights para políticas sustentáveis\n",
    "\n",
    "# **2. Perguntas-Chave de Negócio**\n",
    "A. Sobre Produção de Resíduos\n",
    "Quais países são os maiores geradores de resíduos plásticos?\n",
    "\n",
    "Motivação: Priorizar ações em países críticos.\n",
    "\n",
    "Há correlação entre riqueza (PIB per capita) e volume de resíduos?\n",
    "\n",
    "Motivação: Entender se consumo e desenvolvimento econômico aumentam poluição.\n",
    "\n",
    "B. Sobre Reciclagem\n",
    "Quais países têm as melhores e piores taxas de reciclagem?\n",
    "\n",
    "Motivação: Identificar modelos bem-sucedidos e oportunidades de melhoria.\n",
    "\n",
    "Países com alto consumo per capita reciclam mais?\n",
    "\n",
    "Motivação: Verificar se maior conscientização leva a práticas sustentáveis.\n",
    "\n",
    "C. Sobre Impacto Ambiental\n",
    "Como se distribuem os níveis de risco de poluição costeira?\n",
    "\n",
    "Motivação: Direcionar esforços para regiões de alto risco.\n",
    "\n",
    "\n",
    "D. Análises Comparativas\n",
    "Como variáveis como reciclagem, consumo per capita e risco ambiental se correlacionam?\n",
    "\n",
    "Motivação: Identificar relações complexas para políticas integradas.\n",
    "\n",
    "# **3. Metodologia de Resposta**\n",
    "Cada pergunta será respondida com:\n",
    "\n",
    "Consultas SQL no modelo estrela (já construído).\n",
    "\n",
    "Visualizações (gráficos de barras).\n",
    "\n",
    "Análise estatística (correlações).\n"
   ]
  },
  {
   "cell_type": "markdown",
   "metadata": {
    "application/vnd.databricks.v1+cell": {
     "cellMetadata": {
      "byteLimit": 2048000,
      "rowLimit": 10000
     },
     "inputWidgets": {},
     "nuid": "68ab29f7-f811-4b65-963f-1f950833d376",
     "showTitle": false,
     "tableResultSettingsMap": {},
     "title": ""
    }
   },
   "source": [
    "1. Configuração Inicial"
   ]
  },
  {
   "cell_type": "code",
   "execution_count": 0,
   "metadata": {
    "application/vnd.databricks.v1+cell": {
     "cellMetadata": {
      "byteLimit": 2048000,
      "rowLimit": 10000
     },
     "inputWidgets": {},
     "nuid": "b9b3e572-6ef9-4198-97a4-7f8c261f14e8",
     "showTitle": false,
     "tableResultSettingsMap": {},
     "title": ""
    }
   },
   "outputs": [
    {
     "output_type": "stream",
     "name": "stdout",
     "output_type": "stream",
     "text": [
      "Out[34]: DataFrame[]"
     ]
    }
   ],
   "source": [
    "# Criar catálogo/database para cada camada\n",
    "spark.sql(\"CREATE DATABASE IF NOT EXISTS bronze_plastic_waste\")\n",
    "spark.sql(\"CREATE DATABASE IF NOT EXISTS silver_plastic_waste\") \n",
    "spark.sql(\"CREATE DATABASE IF NOT EXISTS gold_plastic_waste\")"
   ]
  },
  {
   "cell_type": "markdown",
   "metadata": {
    "application/vnd.databricks.v1+cell": {
     "cellMetadata": {
      "byteLimit": 2048000,
      "rowLimit": 10000
     },
     "inputWidgets": {},
     "nuid": "2fa3c3bd-f546-4175-b06c-401fad523cdb",
     "showTitle": false,
     "tableResultSettingsMap": {},
     "title": ""
    }
   },
   "source": [
    "**2. Camada Bronze (Dados Brutos)**"
   ]
  },
  {
   "cell_type": "code",
   "execution_count": 0,
   "metadata": {
    "application/vnd.databricks.v1+cell": {
     "cellMetadata": {
      "byteLimit": 2048000,
      "rowLimit": 10000
     },
     "inputWidgets": {},
     "nuid": "c4f36184-6b17-43f3-b3d0-3737e58465c2",
     "showTitle": false,
     "tableResultSettingsMap": {},
     "title": ""
    }
   },
   "outputs": [
    {
     "output_type": "stream",
     "name": "stdout",
     "output_type": "stream",
     "text": [
      "Camada Bronze criada com sucesso!\n"
     ]
    }
   ],
   "source": [
    "# Carregar dados originais\n",
    "file_path = \"/FileStore/tables/Plastic_Waste_Around_the_World__1_-1.csv\"\n",
    "\n",
    "bronze_df = (spark.read\n",
    "    .option(\"header\", \"true\")\n",
    "    .option(\"inferSchema\", \"true\")\n",
    "    .csv(file_path))\n",
    "\n",
    "# Salvar na camada bronze\n",
    "(bronze_df.write\n",
    "    .mode(\"overwrite\")\n",
    "    .saveAsTable(\"bronze_plastic_waste.raw_data\"))\n",
    "\n",
    "print(\"Camada Bronze criada com sucesso!\")"
   ]
  },
  {
   "cell_type": "markdown",
   "metadata": {
    "application/vnd.databricks.v1+cell": {
     "cellMetadata": {
      "byteLimit": 2048000,
      "rowLimit": 10000
     },
     "inputWidgets": {},
     "nuid": "d282a948-823f-4914-bc40-6f3d238ddf37",
     "showTitle": false,
     "tableResultSettingsMap": {},
     "title": ""
    }
   },
   "source": [
    "**3. Camada Silver (Dados Tratados)**"
   ]
  },
  {
   "cell_type": "code",
   "execution_count": 0,
   "metadata": {
    "application/vnd.databricks.v1+cell": {
     "cellMetadata": {
      "byteLimit": 2048000,
      "rowLimit": 10000
     },
     "inputWidgets": {},
     "nuid": "1fa0990b-890e-4eb6-9cb3-e30f9aabf2f0",
     "showTitle": false,
     "tableResultSettingsMap": {},
     "title": ""
    }
   },
   "outputs": [
    {
     "output_type": "stream",
     "name": "stdout",
     "output_type": "stream",
     "text": [
      "Camada Silver criada com sucesso!\n"
     ]
    }
   ],
   "source": [
    "from pyspark.sql.functions import col, when, lit\n",
    "\n",
    "# Carregar da bronze\n",
    "silver_df = spark.table(\"bronze_plastic_waste.raw_data\")\n",
    "\n",
    "# Tratamento completo\n",
    "silver_df = (silver_df\n",
    "    # Conversão de tipos\n",
    "    .withColumn(\"Total_Plastic_Waste_MT\", col(\"Total_Plastic_Waste_MT\").cast(\"double\"))\n",
    "    .withColumn(\"Recycling_Rate\", col(\"Recycling_Rate\").cast(\"double\"))\n",
    "    .withColumn(\"Per_Capita_Waste_KG\", col(\"Per_Capita_Waste_KG\").cast(\"double\"))\n",
    "    \n",
    "    # Padronização de categorias\n",
    "    .withColumn(\"Coastal_Risk_Level\", \n",
    "        when(col(\"Coastal_Waste_Risk\") == \"Very_High\", 4)\n",
    "        .when(col(\"Coastal_Waste_Risk\") == \"High\", 3)\n",
    "        .when(col(\"Coastal_Waste_Risk\") == \"Medium\", 2)\n",
    "        .otherwise(1))\n",
    "    \n",
    "    # Limpeza de textos\n",
    "    .withColumn(\"Main_Sources_Clean\", \n",
    "        when(col(\"Main_Sources\").contains(\"Packaging\"), \"Packaging\")\n",
    "        .when(col(\"Main_Sources\").contains(\"Consumer\"), \"Consumer Goods\")\n",
    "        .otherwise(\"Other\"))\n",
    "    \n",
    "    # Flags importantes\n",
    "    .withColumn(\"High_Risk_Flag\", \n",
    "        when(col(\"Coastal_Risk_Level\") >= 3, True).otherwise(False))\n",
    ")\n",
    "\n",
    "# Salvar na camada silver\n",
    "(silver_df.write\n",
    "    .mode(\"overwrite\")\n",
    "    .saveAsTable(\"silver_plastic_waste.cleaned_data\"))\n",
    "\n",
    "print(\"Camada Silver criada com sucesso!\")"
   ]
  },
  {
   "cell_type": "markdown",
   "metadata": {
    "application/vnd.databricks.v1+cell": {
     "cellMetadata": {
      "byteLimit": 2048000,
      "rowLimit": 10000
     },
     "inputWidgets": {},
     "nuid": "2af66a24-2b4b-493a-ad97-bd7ba17e5f4c",
     "showTitle": false,
     "tableResultSettingsMap": {},
     "title": ""
    }
   },
   "source": [
    "**4. Camada Gold (Modelo Estrela)**\n",
    "\n",
    "TABELA FATO"
   ]
  },
  {
   "cell_type": "code",
   "execution_count": 0,
   "metadata": {
    "application/vnd.databricks.v1+cell": {
     "cellMetadata": {
      "byteLimit": 2048000,
      "rowLimit": 10000
     },
     "inputWidgets": {},
     "nuid": "2107c42b-e9f3-44ad-a66f-b24aacf0d03e",
     "showTitle": false,
     "tableResultSettingsMap": {},
     "title": ""
    }
   },
   "outputs": [],
   "source": [
    "# Criar fato principal\n",
    "fact_waste = (silver_df.select(\n",
    "    \"Country\",\n",
    "    \"Total_Plastic_Waste_MT\",\n",
    "    \"Recycling_Rate\",\n",
    "    \"Per_Capita_Waste_KG\",\n",
    "    \"Coastal_Risk_Level\",\n",
    "    \"High_Risk_Flag\",\n",
    "    \"Main_Sources_Clean\"\n",
    "))\n",
    "\n",
    "(fact_waste.write\n",
    "    .mode(\"overwrite\")\n",
    "    .saveAsTable(\"gold_plastic_waste.fact_waste_metrics\"))"
   ]
  },
  {
   "cell_type": "markdown",
   "metadata": {
    "application/vnd.databricks.v1+cell": {
     "cellMetadata": {
      "byteLimit": 2048000,
      "rowLimit": 10000
     },
     "inputWidgets": {},
     "nuid": "ac493c6c-a896-4b56-aaec-7b580b5d0c2b",
     "showTitle": false,
     "tableResultSettingsMap": {},
     "title": ""
    }
   },
   "source": [
    "**Dimensões**"
   ]
  },
  {
   "cell_type": "code",
   "execution_count": 0,
   "metadata": {
    "application/vnd.databricks.v1+cell": {
     "cellMetadata": {
      "byteLimit": 2048000,
      "rowLimit": 10000
     },
     "inputWidgets": {},
     "nuid": "7a98dd1a-11f0-4888-8bd7-11b5111f721d",
     "showTitle": false,
     "tableResultSettingsMap": {},
     "title": ""
    }
   },
   "outputs": [],
   "source": [
    "from pyspark.sql.functions import monotonically_increasing_id  # Importação necessária\n",
    "\n",
    "# Dimensão de Fontes\n",
    "dim_sources = (silver_df\n",
    "    .select(\"Main_Sources_Clean\")\n",
    "    .distinct()\n",
    "    .withColumnRenamed(\"Main_Sources_Clean\", \"Source_Type\")\n",
    "    .withColumn(\"Source_ID\", monotonically_increasing_id()))  \n",
    "\n",
    "(dim_sources.write\n",
    "    .mode(\"overwrite\")\n",
    "    .saveAsTable(\"gold_plastic_waste.dim_sources\"))\n",
    "\n",
    "# Dimensão de Países\n",
    "dim_countries = (silver_df\n",
    "    .select(\"Country\")\n",
    "    .distinct()\n",
    "    .withColumn(\"Country_ID\", monotonically_increasing_id()))  \n",
    "\n",
    "(dim_countries.write\n",
    "    .mode(\"overwrite\")\n",
    "    .saveAsTable(\"gold_plastic_waste.dim_countries\"))\n",
    "\n",
    "\n",
    "# 4. Dimensão de Risco \n",
    "dim_risk = spark.createDataFrame([\n",
    "    (1, \"Low\"), (2, \"Medium\"), (3, \"High\"), (4, \"Very_High\")],\n",
    "    [\"Risk_ID\", \"Risk_Level\"])\n",
    "dim_risk.write.mode(\"overwrite\").saveAsTable(\"gold_plastic_waste.dim_risk_levels\")"
   ]
  },
  {
   "cell_type": "markdown",
   "metadata": {
    "application/vnd.databricks.v1+cell": {
     "cellMetadata": {
      "byteLimit": 2048000,
      "rowLimit": 10000
     },
     "inputWidgets": {},
     "nuid": "48b83157-1d07-4c38-ab14-cbe51ab18312",
     "showTitle": false,
     "tableResultSettingsMap": {},
     "title": ""
    }
   },
   "source": [
    "**5. Visualização Final (Modelo Estrela)**"
   ]
  },
  {
   "cell_type": "code",
   "execution_count": 0,
   "metadata": {
    "application/vnd.databricks.v1+cell": {
     "cellMetadata": {
      "byteLimit": 2048000,
      "rowLimit": 10000
     },
     "inputWidgets": {},
     "nuid": "4f01b106-9957-4314-b72e-afa88f69179c",
     "showTitle": false,
     "tableResultSettingsMap": {},
     "title": ""
    }
   },
   "outputs": [
    {
     "output_type": "display_data",
     "data": {
      "text/html": [
       "<style scoped>\n",
       "  .table-result-container {\n",
       "    max-height: 300px;\n",
       "    overflow: auto;\n",
       "  }\n",
       "  table, th, td {\n",
       "    border: 1px solid black;\n",
       "    border-collapse: collapse;\n",
       "  }\n",
       "  th, td {\n",
       "    padding: 5px;\n",
       "  }\n",
       "  th {\n",
       "    text-align: left;\n",
       "  }\n",
       "</style><div class='table-result-container'><table class='table-result'><thead style='background-color: white'><tr><th>Country</th><th>Source_Type</th><th>Risk_Level</th><th>Total_Plastic_Waste_MT</th><th>Recycling_Rate</th><th>Per_Capita_Waste_KG</th></tr></thead><tbody><tr><td>China</td><td>Packaging</td><td>High</td><td>59.08</td><td>29.8</td><td>41.2</td></tr><tr><td>United States</td><td>Packaging</td><td>Medium</td><td>42.02</td><td>32.1</td><td>127.5</td></tr><tr><td>India</td><td>Consumer Goods</td><td>High</td><td>26.33</td><td>11.5</td><td>19.3</td></tr><tr><td>Japan</td><td>Packaging</td><td>Medium</td><td>7.99</td><td>84.8</td><td>63.2</td></tr><tr><td>Germany</td><td>Packaging</td><td>Low</td><td>6.28</td><td>56.1</td><td>75.6</td></tr><tr><td>Brazil</td><td>Packaging</td><td>Medium</td><td>5.96</td><td>1.2</td><td>28.1</td></tr><tr><td>Indonesia</td><td>Packaging</td><td>Very_High</td><td>5.85</td><td>11.8</td><td>21.3</td></tr><tr><td>Russia</td><td>Consumer Goods</td><td>Medium</td><td>5.84</td><td>5.6</td><td>40.2</td></tr><tr><td>United Kingdom</td><td>Packaging</td><td>Low</td><td>5.03</td><td>46.2</td><td>74.3</td></tr><tr><td>France</td><td>Packaging</td><td>Low</td><td>4.98</td><td>27.3</td><td>73.1</td></tr><tr><td>Mexico</td><td>Packaging</td><td>High</td><td>4.43</td><td>6.7</td><td>34.2</td></tr><tr><td>Canada</td><td>Packaging</td><td>Low</td><td>3.89</td><td>9.4</td><td>102.1</td></tr><tr><td>Italy</td><td>Packaging</td><td>Medium</td><td>3.83</td><td>41.2</td><td>63.4</td></tr><tr><td>Turkey</td><td>Packaging</td><td>High</td><td>3.21</td><td>12.1</td><td>38.5</td></tr><tr><td>South Korea</td><td>Packaging</td><td>Medium</td><td>2.91</td><td>59.1</td><td>56.7</td></tr><tr><td>Spain</td><td>Packaging</td><td>Medium</td><td>2.58</td><td>37.8</td><td>54.9</td></tr><tr><td>Vietnam</td><td>Packaging</td><td>Very_High</td><td>2.54</td><td>15.3</td><td>25.8</td></tr><tr><td>Thailand</td><td>Packaging</td><td>High</td><td>2.41</td><td>17.6</td><td>34.5</td></tr><tr><td>Malaysia</td><td>Consumer Goods</td><td>High</td><td>2.31</td><td>24.3</td><td>70.2</td></tr><tr><td>Poland</td><td>Packaging</td><td>Low</td><td>2.21</td><td>34.5</td><td>58.3</td></tr><tr><td>Egypt</td><td>Packaging</td><td>High</td><td>2.01</td><td>6.5</td><td>19.3</td></tr><tr><td>Argentina</td><td>Packaging</td><td>Medium</td><td>1.98</td><td>14.2</td><td>43.5</td></tr><tr><td>Netherlands</td><td>Packaging</td><td>Low</td><td>1.78</td><td>55.9</td><td>102.8</td></tr><tr><td>Australia</td><td>Packaging</td><td>Medium</td><td>1.67</td><td>13.2</td><td>64.8</td></tr><tr><td>Saudi Arabia</td><td>Packaging</td><td>Medium</td><td>1.65</td><td>4.5</td><td>46.9</td></tr><tr><td>Philippines</td><td>Packaging</td><td>Very_High</td><td>1.63</td><td>9.1</td><td>14.8</td></tr><tr><td>Bangladesh</td><td>Packaging</td><td>High</td><td>1.61</td><td>8.4</td><td>9.7</td></tr><tr><td>Pakistan</td><td>Packaging</td><td>High</td><td>1.59</td><td>3.2</td><td>7.1</td></tr><tr><td>South Africa</td><td>Packaging</td><td>Medium</td><td>1.58</td><td>18.9</td><td>26.4</td></tr><tr><td>Colombia</td><td>Packaging</td><td>Medium</td><td>1.54</td><td>7.8</td><td>30.1</td></tr><tr><td>Nigeria</td><td>Packaging</td><td>High</td><td>1.53</td><td>2.1</td><td>7.3</td></tr><tr><td>Belgium</td><td>Packaging</td><td>Low</td><td>1.52</td><td>43.2</td><td>131.2</td></tr><tr><td>Sweden</td><td>Packaging</td><td>Low</td><td>1.51</td><td>50.6</td><td>146.3</td></tr><tr><td>Austria</td><td>Packaging</td><td>Low</td><td>1.48</td><td>56.4</td><td>164.8</td></tr><tr><td>Ukraine</td><td>Packaging</td><td>Medium</td><td>1.47</td><td>3.4</td><td>33.7</td></tr><tr><td>Greece</td><td>Packaging</td><td>Medium</td><td>1.45</td><td>21.3</td><td>139.2</td></tr><tr><td>Czech Republic</td><td>Packaging</td><td>Low</td><td>1.43</td><td>41.7</td><td>133.9</td></tr><tr><td>Romania</td><td>Packaging</td><td>Medium</td><td>1.41</td><td>13.8</td><td>73.4</td></tr><tr><td>Portugal</td><td>Packaging</td><td>Medium</td><td>1.39</td><td>31.2</td><td>135.8</td></tr><tr><td>Hungary</td><td>Packaging</td><td>Low</td><td>1.37</td><td>30.1</td><td>141.5</td></tr><tr><td>Denmark</td><td>Packaging</td><td>Low</td><td>1.35</td><td>42.3</td><td>232.1</td></tr><tr><td>Finland</td><td>Packaging</td><td>Low</td><td>1.33</td><td>42.1</td><td>240.2</td></tr><tr><td>Norway</td><td>Packaging</td><td>Low</td><td>1.31</td><td>44.5</td><td>243.1</td></tr><tr><td>Ireland</td><td>Packaging</td><td>Low</td><td>1.29</td><td>31.2</td><td>257.3</td></tr><tr><td>Singapore</td><td>Packaging</td><td>Medium</td><td>1.27</td><td>59.8</td><td>217.9</td></tr><tr><td>Chile</td><td>Packaging</td><td>High</td><td>1.25</td><td>8.9</td><td>64.7</td></tr><tr><td>Israel</td><td>Packaging</td><td>Medium</td><td>1.23</td><td>14.5</td><td>133.7</td></tr><tr><td>Peru</td><td>Packaging</td><td>High</td><td>1.21</td><td>2.3</td><td>36.4</td></tr><tr><td>Kazakhstan</td><td>Consumer Goods</td><td>Low</td><td>1.19</td><td>4.5</td><td>62.8</td></tr><tr><td>Morocco</td><td>Packaging</td><td>High</td><td>1.17</td><td>7.8</td><td>31.2</td></tr><tr><td>Algeria</td><td>Packaging</td><td>High</td><td>1.15</td><td>4.3</td><td>25.9</td></tr><tr><td>Slovakia</td><td>Packaging</td><td>Low</td><td>1.13</td><td>38.9</td><td>207.1</td></tr><tr><td>Ecuador</td><td>Packaging</td><td>High</td><td>1.11</td><td>4.1</td><td>61.8</td></tr><tr><td>Belarus</td><td>Consumer Goods</td><td>Low</td><td>1.09</td><td>7.2</td><td>115.7</td></tr><tr><td>Dominican Republic</td><td>Packaging</td><td>High</td><td>1.07</td><td>2.8</td><td>97.6</td></tr><tr><td>Bulgaria</td><td>Packaging</td><td>Medium</td><td>1.05</td><td>31.5</td><td>152.3</td></tr><tr><td>Tunisia</td><td>Packaging</td><td>High</td><td>1.03</td><td>4.1</td><td>85.9</td></tr><tr><td>Sri Lanka</td><td>Packaging</td><td>High</td><td>1.01</td><td>29.8</td><td>46.7</td></tr><tr><td>Azerbaijan</td><td>Packaging</td><td>Medium</td><td>0.99</td><td>18.2</td><td>96.8</td></tr><tr><td>Croatia</td><td>Packaging</td><td>Medium</td><td>0.97</td><td>33.7</td><td>238.1</td></tr><tr><td>Uruguay</td><td>Packaging</td><td>Medium</td><td>0.95</td><td>35.2</td><td>272.4</td></tr><tr><td>Lithuania</td><td>Packaging</td><td>Low</td><td>0.93</td><td>45.3</td><td>334.8</td></tr><tr><td>Slovenia</td><td>Packaging</td><td>Low</td><td>0.91</td><td>42.1</td><td>436.5</td></tr><tr><td>Costa Rica</td><td>Packaging</td><td>High</td><td>0.89</td><td>13.2</td><td>172.8</td></tr><tr><td>Panama</td><td>Packaging</td><td>High</td><td>0.87</td><td>5.4</td><td>198.6</td></tr><tr><td>Kuwait</td><td>Packaging</td><td>High</td><td>0.85</td><td>10.2</td><td>195.4</td></tr><tr><td>Jordan</td><td>Packaging</td><td>Medium</td><td>0.83</td><td>7.8</td><td>80.6</td></tr><tr><td>Lebanon</td><td>Packaging</td><td>High</td><td>0.81</td><td>6.4</td><td>119.1</td></tr><tr><td>Oman</td><td>Packaging</td><td>High</td><td>0.79</td><td>3.2</td><td>151.9</td></tr><tr><td>Bolivia</td><td>Packaging</td><td>Low</td><td>0.77</td><td>2.8</td><td>65.3</td></tr><tr><td>Paraguay</td><td>Packaging</td><td>Low</td><td>0.75</td><td>4.1</td><td>104.2</td></tr><tr><td>Latvia</td><td>Packaging</td><td>Low</td><td>0.73</td><td>43.2</td><td>386.8</td></tr><tr><td>Estonia</td><td>Packaging</td><td>Low</td><td>0.71</td><td>31.8</td><td>534.6</td></tr><tr><td>Bahrain</td><td>Packaging</td><td>High</td><td>0.69</td><td>4.5</td><td>397.7</td></tr><tr><td>Trinidad and Tobago</td><td>Packaging</td><td>High</td><td>0.67</td><td>3.2</td><td>478.6</td></tr><tr><td>Cyprus</td><td>Packaging</td><td>Medium</td><td>0.65</td><td>16.4</td><td>531.1</td></tr><tr><td>Montenegro</td><td>Packaging</td><td>Medium</td><td>0.63</td><td>3.4</td><td>1004.8</td></tr><tr><td>Luxembourg</td><td>Packaging</td><td>Low</td><td>0.61</td><td>48.9</td><td>957.8</td></tr><tr><td>Malta</td><td>Packaging</td><td>Medium</td><td>0.59</td><td>11.2</td><td>1331.5</td></tr><tr><td>Iceland</td><td>Packaging</td><td>Low</td><td>0.57</td><td>55.6</td><td>1564.4</td></tr><tr><td>Qatar</td><td>Packaging</td><td>High</td><td>0.55</td><td>8.9</td><td>188.7</td></tr><tr><td>Cambodia</td><td>Packaging</td><td>High</td><td>0.53</td><td>5.4</td><td>31.2</td></tr><tr><td>Myanmar</td><td>Packaging</td><td>High</td><td>0.51</td><td>2.1</td><td>9.3</td></tr><tr><td>Laos</td><td>Packaging</td><td>Medium</td><td>0.49</td><td>1.8</td><td>66.2</td></tr><tr><td>Mongolia</td><td>Packaging</td><td>Low</td><td>0.47</td><td>0.9</td><td>141.6</td></tr><tr><td>Afghanistan</td><td>Packaging</td><td>Low</td><td>0.45</td><td>0.5</td><td>11.4</td></tr><tr><td>Yemen</td><td>Packaging</td><td>High</td><td>0.43</td><td>0.3</td><td>14.2</td></tr><tr><td>Uzbekistan</td><td>Packaging</td><td>Low</td><td>0.42</td><td>3.4</td><td>12.3</td></tr><tr><td>Syria</td><td>Packaging</td><td>Medium</td><td>0.41</td><td>0.4</td><td>24.7</td></tr><tr><td>Iraq</td><td>Packaging</td><td>Medium</td><td>0.39</td><td>1.2</td><td>9.6</td></tr><tr><td>Nepal</td><td>Packaging</td><td>Low</td><td>0.38</td><td>5.6</td><td>12.8</td></tr><tr><td>Libya</td><td>Packaging</td><td>High</td><td>0.37</td><td>0.8</td><td>53.2</td></tr><tr><td>Sudan</td><td>Packaging</td><td>Medium</td><td>0.35</td><td>0.4</td><td>7.9</td></tr><tr><td>Turkmenistan</td><td>Packaging</td><td>Low</td><td>0.35</td><td>2.1</td><td>57.3</td></tr><tr><td>Bosnia and Herzegovina</td><td>Packaging</td><td>Low</td><td>0.34</td><td>13.2</td><td>104.5</td></tr><tr><td>Somalia</td><td>Packaging</td><td>High</td><td>0.33</td><td>0.1</td><td>20.4</td></tr><tr><td>Georgia</td><td>Packaging</td><td>Medium</td><td>0.33</td><td>11.2</td><td>88.3</td></tr><tr><td>Ethiopia</td><td>Packaging</td><td>Low</td><td>0.31</td><td>0.7</td><td>2.6</td></tr><tr><td>Albania</td><td>Packaging</td><td>Medium</td><td>0.31</td><td>15.6</td><td>107.9</td></tr><tr><td>Kenya</td><td>Packaging</td><td>High</td><td>0.29</td><td>7.8</td><td>5.3</td></tr><tr><td>North Macedonia</td><td>Packaging</td><td>Low</td><td>0.29</td><td>17.8</td><td>139.2</td></tr><tr><td>Moldova</td><td>Packaging</td><td>Low</td><td>0.28</td><td>12.3</td><td>69.7</td></tr><tr><td>Armenia</td><td>Packaging</td><td>Low</td><td>0.28</td><td>9.8</td><td>94.2</td></tr><tr><td>Tanzania</td><td>Packaging</td><td>High</td><td>0.27</td><td>5.4</td><td>4.4</td></tr><tr><td>Uganda</td><td>Packaging</td><td>Low</td><td>0.25</td><td>2.3</td><td>5.3</td></tr><tr><td>Kyrgyzstan</td><td>Packaging</td><td>Low</td><td>0.25</td><td>4.5</td><td>37.8</td></tr><tr><td>Democratic Republic of Congo</td><td>Packaging</td><td>Medium</td><td>0.24</td><td>0.4</td><td>2.6</td></tr><tr><td>Rwanda</td><td>Packaging</td><td>Low</td><td>0.23</td><td>11.2</td><td>17.4</td></tr><tr><td>Ghana</td><td>Packaging</td><td>High</td><td>0.22</td><td>4.5</td><td>7.0</td></tr><tr><td>Tajikistan</td><td>Packaging</td><td>Low</td><td>0.22</td><td>3.2</td><td>22.7</td></tr><tr><td>Burundi</td><td>Packaging</td><td>Low</td><td>0.21</td><td>0.8</td><td>17.3</td></tr><tr><td>Madagascar</td><td>Packaging</td><td>High</td><td>0.21</td><td>2.1</td><td>7.4</td></tr><tr><td>Kosovo</td><td>Packaging</td><td>Low</td><td>0.21</td><td>8.9</td><td>115.7</td></tr><tr><td>Malawi</td><td>Packaging</td><td>Low</td><td>0.19</td><td>0.5</td><td>9.7</td></tr><tr><td>Cameroon</td><td>Packaging</td><td>High</td><td>0.19</td><td>1.2</td><td>7.0</td></tr><tr><td>Ivory Coast</td><td>Packaging</td><td>High</td><td>0.18</td><td>1.2</td><td>6.7</td></tr><tr><td>Mozambique</td><td>Packaging</td><td>High</td><td>0.17</td><td>0.9</td><td>5.3</td></tr><tr><td>Senegal</td><td>Packaging</td><td>High</td><td>0.16</td><td>1.8</td><td>9.4</td></tr><tr><td>Zimbabwe</td><td>Packaging</td><td>Low</td><td>0.15</td><td>2.1</td><td>9.9</td></tr><tr><td>Papua New Guinea</td><td>Packaging</td><td>High</td><td>0.15</td><td>1.2</td><td>16.5</td></tr><tr><td>Burkina Faso</td><td>Packaging</td><td>Low</td><td>0.14</td><td>0.4</td><td>6.5</td></tr><tr><td>Zambia</td><td>Packaging</td><td>Low</td><td>0.13</td><td>1.8</td><td>6.9</td></tr><tr><td>Mali</td><td>Packaging</td><td>Low</td><td>0.12</td><td>0.3</td><td>5.8</td></tr><tr><td>Brunei</td><td>Packaging</td><td>High</td><td>0.12</td><td>8.9</td><td>269.4</td></tr><tr><td>Angola</td><td>Packaging</td><td>High</td><td>0.11</td><td>0.4</td><td>3.3</td></tr><tr><td>Niger</td><td>Packaging</td><td>Low</td><td>0.11</td><td>0.2</td><td>4.4</td></tr><tr><td>Namibia</td><td>Packaging</td><td>High</td><td>0.09</td><td>12.3</td><td>35.1</td></tr><tr><td>Benin</td><td>Packaging</td><td>High</td><td>0.09</td><td>0.6</td><td>7.3</td></tr><tr><td>Chad</td><td>Packaging</td><td>Low</td><td>0.09</td><td>0.1</td><td>5.4</td></tr><tr><td>Mauritius</td><td>Packaging</td><td>High</td><td>0.08</td><td>15.4</td><td>62.8</td></tr><tr><td>Guinea</td><td>Packaging</td><td>High</td><td>0.08</td><td>0.5</td><td>6.0</td></tr><tr><td>Republic of Congo</td><td>Packaging</td><td>High</td><td>0.08</td><td>0.9</td><td>14.2</td></tr><tr><td>Botswana</td><td>Packaging</td><td>Low</td><td>0.07</td><td>8.9</td><td>29.3</td></tr><tr><td>Togo</td><td>Packaging</td><td>High</td><td>0.07</td><td>0.8</td><td>8.3</td></tr><tr><td>Mauritania</td><td>Packaging</td><td>High</td><td>0.07</td><td>0.4</td><td>14.8</td></tr><tr><td>Fiji</td><td>Packaging</td><td>High</td><td>0.07</td><td>6.7</td><td>76.9</td></tr><tr><td>Sierra Leone</td><td>Packaging</td><td>High</td><td>0.06</td><td>0.4</td><td>7.3</td></tr><tr><td>Gabon</td><td>Packaging</td><td>High</td><td>0.06</td><td>2.3</td><td>26.4</td></tr><tr><td>East Timor</td><td>Packaging</td><td>High</td><td>0.06</td><td>2.3</td><td>44.7</td></tr><tr><td>Lesotho</td><td>Packaging</td><td>Low</td><td>0.05</td><td>0.7</td><td>23.2</td></tr><tr><td>Liberia</td><td>Packaging</td><td>High</td><td>0.05</td><td>0.2</td><td>9.7</td></tr><tr><td>Eritrea</td><td>Packaging</td><td>High</td><td>0.05</td><td>0.3</td><td>13.9</td></tr><tr><td>Bhutan</td><td>Packaging</td><td>Low</td><td>0.05</td><td>12.3</td><td>64.2</td></tr><tr><td>Guinea-Bissau</td><td>Packaging</td><td>High</td><td>0.04</td><td>0.3</td><td>19.8</td></tr><tr><td>Central African Republic</td><td>Packaging</td><td>Low</td><td>0.04</td><td>0.2</td><td>8.1</td></tr><tr><td>Maldives</td><td>Packaging</td><td>Very_High</td><td>0.04</td><td>3.2</td><td>72.8</td></tr><tr><td>New Caledonia</td><td>Packaging</td><td>High</td><td>0.04</td><td>23.4</td><td>138.6</td></tr><tr><td>Eswatini</td><td>Packaging</td><td>Low</td><td>0.03</td><td>1.2</td><td>25.6</td></tr><tr><td>Djibouti</td><td>Packaging</td><td>High</td><td>0.03</td><td>1.1</td><td>29.7</td></tr><tr><td>Solomon Islands</td><td>Packaging</td><td>High</td><td>0.03</td><td>0.8</td><td>42.9</td></tr><tr><td>Comoros</td><td>Packaging</td><td>High</td><td>0.02</td><td>0.4</td><td>22.7</td></tr><tr><td>Cape Verde</td><td>Packaging</td><td>High</td><td>0.02</td><td>3.4</td><td>35.6</td></tr><tr><td>Gambia</td><td>Packaging</td><td>High</td><td>0.02</td><td>0.5</td><td>8.1</td></tr><tr><td>Vanuatu</td><td>Packaging</td><td>High</td><td>0.02</td><td>1.1</td><td>63.8</td></tr><tr><td>Seychelles</td><td>Packaging</td><td>High</td><td>0.01</td><td>18.9</td><td>101.2</td></tr><tr><td>Sao Tome and Principe</td><td>Packaging</td><td>High</td><td>0.01</td><td>0.8</td><td>45.2</td></tr><tr><td>Western Sahara</td><td>Packaging</td><td>High</td><td>0.01</td><td>0.2</td><td>18.5</td></tr><tr><td>Samoa</td><td>Packaging</td><td>High</td><td>0.01</td><td>4.5</td><td>49.8</td></tr><tr><td>Tonga</td><td>Packaging</td><td>High</td><td>0.01</td><td>3.2</td><td>92.7</td></tr><tr><td>Kiribati</td><td>Packaging</td><td>High</td><td>0.01</td><td>2.1</td><td>82.4</td></tr><tr><td>Marshall Islands</td><td>Packaging</td><td>High</td><td>0.01</td><td>1.8</td><td>168.5</td></tr><tr><td>Micronesia</td><td>Packaging</td><td>High</td><td>0.01</td><td>1.5</td><td>86.3</td></tr><tr><td>Palau</td><td>Packaging</td><td>High</td><td>0.01</td><td>12.3</td><td>437.2</td></tr><tr><td>Tuvalu</td><td>Packaging</td><td>High</td><td>0.01</td><td>1.2</td><td>833.3</td></tr><tr><td>Nauru</td><td>Packaging</td><td>High</td><td>0.01</td><td>0.9</td><td>927.8</td></tr></tbody></table></div>"
      ]
     },
     "metadata": {
      "application/vnd.databricks.v1+output": {
       "addedWidgets": {},
       "aggData": [],
       "aggError": "",
       "aggOverflow": false,
       "aggSchema": [],
       "aggSeriesLimitReached": false,
       "aggType": "",
       "arguments": {},
       "columnCustomDisplayInfos": {},
       "data": [
        [
         "China",
         "Packaging",
         "High",
         59.08,
         29.8,
         41.2
        ],
        [
         "United States",
         "Packaging",
         "Medium",
         42.02,
         32.1,
         127.5
        ],
        [
         "India",
         "Consumer Goods",
         "High",
         26.33,
         11.5,
         19.3
        ],
        [
         "Japan",
         "Packaging",
         "Medium",
         7.99,
         84.8,
         63.2
        ],
        [
         "Germany",
         "Packaging",
         "Low",
         6.28,
         56.1,
         75.6
        ],
        [
         "Brazil",
         "Packaging",
         "Medium",
         5.96,
         1.2,
         28.1
        ],
        [
         "Indonesia",
         "Packaging",
         "Very_High",
         5.85,
         11.8,
         21.3
        ],
        [
         "Russia",
         "Consumer Goods",
         "Medium",
         5.84,
         5.6,
         40.2
        ],
        [
         "United Kingdom",
         "Packaging",
         "Low",
         5.03,
         46.2,
         74.3
        ],
        [
         "France",
         "Packaging",
         "Low",
         4.98,
         27.3,
         73.1
        ],
        [
         "Mexico",
         "Packaging",
         "High",
         4.43,
         6.7,
         34.2
        ],
        [
         "Canada",
         "Packaging",
         "Low",
         3.89,
         9.4,
         102.1
        ],
        [
         "Italy",
         "Packaging",
         "Medium",
         3.83,
         41.2,
         63.4
        ],
        [
         "Turkey",
         "Packaging",
         "High",
         3.21,
         12.1,
         38.5
        ],
        [
         "South Korea",
         "Packaging",
         "Medium",
         2.91,
         59.1,
         56.7
        ],
        [
         "Spain",
         "Packaging",
         "Medium",
         2.58,
         37.8,
         54.9
        ],
        [
         "Vietnam",
         "Packaging",
         "Very_High",
         2.54,
         15.3,
         25.8
        ],
        [
         "Thailand",
         "Packaging",
         "High",
         2.41,
         17.6,
         34.5
        ],
        [
         "Malaysia",
         "Consumer Goods",
         "High",
         2.31,
         24.3,
         70.2
        ],
        [
         "Poland",
         "Packaging",
         "Low",
         2.21,
         34.5,
         58.3
        ],
        [
         "Egypt",
         "Packaging",
         "High",
         2.01,
         6.5,
         19.3
        ],
        [
         "Argentina",
         "Packaging",
         "Medium",
         1.98,
         14.2,
         43.5
        ],
        [
         "Netherlands",
         "Packaging",
         "Low",
         1.78,
         55.9,
         102.8
        ],
        [
         "Australia",
         "Packaging",
         "Medium",
         1.67,
         13.2,
         64.8
        ],
        [
         "Saudi Arabia",
         "Packaging",
         "Medium",
         1.65,
         4.5,
         46.9
        ],
        [
         "Philippines",
         "Packaging",
         "Very_High",
         1.63,
         9.1,
         14.8
        ],
        [
         "Bangladesh",
         "Packaging",
         "High",
         1.61,
         8.4,
         9.7
        ],
        [
         "Pakistan",
         "Packaging",
         "High",
         1.59,
         3.2,
         7.1
        ],
        [
         "South Africa",
         "Packaging",
         "Medium",
         1.58,
         18.9,
         26.4
        ],
        [
         "Colombia",
         "Packaging",
         "Medium",
         1.54,
         7.8,
         30.1
        ],
        [
         "Nigeria",
         "Packaging",
         "High",
         1.53,
         2.1,
         7.3
        ],
        [
         "Belgium",
         "Packaging",
         "Low",
         1.52,
         43.2,
         131.2
        ],
        [
         "Sweden",
         "Packaging",
         "Low",
         1.51,
         50.6,
         146.3
        ],
        [
         "Austria",
         "Packaging",
         "Low",
         1.48,
         56.4,
         164.8
        ],
        [
         "Ukraine",
         "Packaging",
         "Medium",
         1.47,
         3.4,
         33.7
        ],
        [
         "Greece",
         "Packaging",
         "Medium",
         1.45,
         21.3,
         139.2
        ],
        [
         "Czech Republic",
         "Packaging",
         "Low",
         1.43,
         41.7,
         133.9
        ],
        [
         "Romania",
         "Packaging",
         "Medium",
         1.41,
         13.8,
         73.4
        ],
        [
         "Portugal",
         "Packaging",
         "Medium",
         1.39,
         31.2,
         135.8
        ],
        [
         "Hungary",
         "Packaging",
         "Low",
         1.37,
         30.1,
         141.5
        ],
        [
         "Denmark",
         "Packaging",
         "Low",
         1.35,
         42.3,
         232.1
        ],
        [
         "Finland",
         "Packaging",
         "Low",
         1.33,
         42.1,
         240.2
        ],
        [
         "Norway",
         "Packaging",
         "Low",
         1.31,
         44.5,
         243.1
        ],
        [
         "Ireland",
         "Packaging",
         "Low",
         1.29,
         31.2,
         257.3
        ],
        [
         "Singapore",
         "Packaging",
         "Medium",
         1.27,
         59.8,
         217.9
        ],
        [
         "Chile",
         "Packaging",
         "High",
         1.25,
         8.9,
         64.7
        ],
        [
         "Israel",
         "Packaging",
         "Medium",
         1.23,
         14.5,
         133.7
        ],
        [
         "Peru",
         "Packaging",
         "High",
         1.21,
         2.3,
         36.4
        ],
        [
         "Kazakhstan",
         "Consumer Goods",
         "Low",
         1.19,
         4.5,
         62.8
        ],
        [
         "Morocco",
         "Packaging",
         "High",
         1.17,
         7.8,
         31.2
        ],
        [
         "Algeria",
         "Packaging",
         "High",
         1.15,
         4.3,
         25.9
        ],
        [
         "Slovakia",
         "Packaging",
         "Low",
         1.13,
         38.9,
         207.1
        ],
        [
         "Ecuador",
         "Packaging",
         "High",
         1.11,
         4.1,
         61.8
        ],
        [
         "Belarus",
         "Consumer Goods",
         "Low",
         1.09,
         7.2,
         115.7
        ],
        [
         "Dominican Republic",
         "Packaging",
         "High",
         1.07,
         2.8,
         97.6
        ],
        [
         "Bulgaria",
         "Packaging",
         "Medium",
         1.05,
         31.5,
         152.3
        ],
        [
         "Tunisia",
         "Packaging",
         "High",
         1.03,
         4.1,
         85.9
        ],
        [
         "Sri Lanka",
         "Packaging",
         "High",
         1.01,
         29.8,
         46.7
        ],
        [
         "Azerbaijan",
         "Packaging",
         "Medium",
         0.99,
         18.2,
         96.8
        ],
        [
         "Croatia",
         "Packaging",
         "Medium",
         0.97,
         33.7,
         238.1
        ],
        [
         "Uruguay",
         "Packaging",
         "Medium",
         0.95,
         35.2,
         272.4
        ],
        [
         "Lithuania",
         "Packaging",
         "Low",
         0.93,
         45.3,
         334.8
        ],
        [
         "Slovenia",
         "Packaging",
         "Low",
         0.91,
         42.1,
         436.5
        ],
        [
         "Costa Rica",
         "Packaging",
         "High",
         0.89,
         13.2,
         172.8
        ],
        [
         "Panama",
         "Packaging",
         "High",
         0.87,
         5.4,
         198.6
        ],
        [
         "Kuwait",
         "Packaging",
         "High",
         0.85,
         10.2,
         195.4
        ],
        [
         "Jordan",
         "Packaging",
         "Medium",
         0.83,
         7.8,
         80.6
        ],
        [
         "Lebanon",
         "Packaging",
         "High",
         0.81,
         6.4,
         119.1
        ],
        [
         "Oman",
         "Packaging",
         "High",
         0.79,
         3.2,
         151.9
        ],
        [
         "Bolivia",
         "Packaging",
         "Low",
         0.77,
         2.8,
         65.3
        ],
        [
         "Paraguay",
         "Packaging",
         "Low",
         0.75,
         4.1,
         104.2
        ],
        [
         "Latvia",
         "Packaging",
         "Low",
         0.73,
         43.2,
         386.8
        ],
        [
         "Estonia",
         "Packaging",
         "Low",
         0.71,
         31.8,
         534.6
        ],
        [
         "Bahrain",
         "Packaging",
         "High",
         0.69,
         4.5,
         397.7
        ],
        [
         "Trinidad and Tobago",
         "Packaging",
         "High",
         0.67,
         3.2,
         478.6
        ],
        [
         "Cyprus",
         "Packaging",
         "Medium",
         0.65,
         16.4,
         531.1
        ],
        [
         "Montenegro",
         "Packaging",
         "Medium",
         0.63,
         3.4,
         1004.8
        ],
        [
         "Luxembourg",
         "Packaging",
         "Low",
         0.61,
         48.9,
         957.8
        ],
        [
         "Malta",
         "Packaging",
         "Medium",
         0.59,
         11.2,
         1331.5
        ],
        [
         "Iceland",
         "Packaging",
         "Low",
         0.57,
         55.6,
         1564.4
        ],
        [
         "Qatar",
         "Packaging",
         "High",
         0.55,
         8.9,
         188.7
        ],
        [
         "Cambodia",
         "Packaging",
         "High",
         0.53,
         5.4,
         31.2
        ],
        [
         "Myanmar",
         "Packaging",
         "High",
         0.51,
         2.1,
         9.3
        ],
        [
         "Laos",
         "Packaging",
         "Medium",
         0.49,
         1.8,
         66.2
        ],
        [
         "Mongolia",
         "Packaging",
         "Low",
         0.47,
         0.9,
         141.6
        ],
        [
         "Afghanistan",
         "Packaging",
         "Low",
         0.45,
         0.5,
         11.4
        ],
        [
         "Yemen",
         "Packaging",
         "High",
         0.43,
         0.3,
         14.2
        ],
        [
         "Uzbekistan",
         "Packaging",
         "Low",
         0.42,
         3.4,
         12.3
        ],
        [
         "Syria",
         "Packaging",
         "Medium",
         0.41,
         0.4,
         24.7
        ],
        [
         "Iraq",
         "Packaging",
         "Medium",
         0.39,
         1.2,
         9.6
        ],
        [
         "Nepal",
         "Packaging",
         "Low",
         0.38,
         5.6,
         12.8
        ],
        [
         "Libya",
         "Packaging",
         "High",
         0.37,
         0.8,
         53.2
        ],
        [
         "Sudan",
         "Packaging",
         "Medium",
         0.35,
         0.4,
         7.9
        ],
        [
         "Turkmenistan",
         "Packaging",
         "Low",
         0.35,
         2.1,
         57.3
        ],
        [
         "Bosnia and Herzegovina",
         "Packaging",
         "Low",
         0.34,
         13.2,
         104.5
        ],
        [
         "Somalia",
         "Packaging",
         "High",
         0.33,
         0.1,
         20.4
        ],
        [
         "Georgia",
         "Packaging",
         "Medium",
         0.33,
         11.2,
         88.3
        ],
        [
         "Ethiopia",
         "Packaging",
         "Low",
         0.31,
         0.7,
         2.6
        ],
        [
         "Albania",
         "Packaging",
         "Medium",
         0.31,
         15.6,
         107.9
        ],
        [
         "Kenya",
         "Packaging",
         "High",
         0.29,
         7.8,
         5.3
        ],
        [
         "North Macedonia",
         "Packaging",
         "Low",
         0.29,
         17.8,
         139.2
        ],
        [
         "Moldova",
         "Packaging",
         "Low",
         0.28,
         12.3,
         69.7
        ],
        [
         "Armenia",
         "Packaging",
         "Low",
         0.28,
         9.8,
         94.2
        ],
        [
         "Tanzania",
         "Packaging",
         "High",
         0.27,
         5.4,
         4.4
        ],
        [
         "Uganda",
         "Packaging",
         "Low",
         0.25,
         2.3,
         5.3
        ],
        [
         "Kyrgyzstan",
         "Packaging",
         "Low",
         0.25,
         4.5,
         37.8
        ],
        [
         "Democratic Republic of Congo",
         "Packaging",
         "Medium",
         0.24,
         0.4,
         2.6
        ],
        [
         "Rwanda",
         "Packaging",
         "Low",
         0.23,
         11.2,
         17.4
        ],
        [
         "Ghana",
         "Packaging",
         "High",
         0.22,
         4.5,
         7.0
        ],
        [
         "Tajikistan",
         "Packaging",
         "Low",
         0.22,
         3.2,
         22.7
        ],
        [
         "Burundi",
         "Packaging",
         "Low",
         0.21,
         0.8,
         17.3
        ],
        [
         "Madagascar",
         "Packaging",
         "High",
         0.21,
         2.1,
         7.4
        ],
        [
         "Kosovo",
         "Packaging",
         "Low",
         0.21,
         8.9,
         115.7
        ],
        [
         "Malawi",
         "Packaging",
         "Low",
         0.19,
         0.5,
         9.7
        ],
        [
         "Cameroon",
         "Packaging",
         "High",
         0.19,
         1.2,
         7.0
        ],
        [
         "Ivory Coast",
         "Packaging",
         "High",
         0.18,
         1.2,
         6.7
        ],
        [
         "Mozambique",
         "Packaging",
         "High",
         0.17,
         0.9,
         5.3
        ],
        [
         "Senegal",
         "Packaging",
         "High",
         0.16,
         1.8,
         9.4
        ],
        [
         "Zimbabwe",
         "Packaging",
         "Low",
         0.15,
         2.1,
         9.9
        ],
        [
         "Papua New Guinea",
         "Packaging",
         "High",
         0.15,
         1.2,
         16.5
        ],
        [
         "Burkina Faso",
         "Packaging",
         "Low",
         0.14,
         0.4,
         6.5
        ],
        [
         "Zambia",
         "Packaging",
         "Low",
         0.13,
         1.8,
         6.9
        ],
        [
         "Mali",
         "Packaging",
         "Low",
         0.12,
         0.3,
         5.8
        ],
        [
         "Brunei",
         "Packaging",
         "High",
         0.12,
         8.9,
         269.4
        ],
        [
         "Angola",
         "Packaging",
         "High",
         0.11,
         0.4,
         3.3
        ],
        [
         "Niger",
         "Packaging",
         "Low",
         0.11,
         0.2,
         4.4
        ],
        [
         "Namibia",
         "Packaging",
         "High",
         0.09,
         12.3,
         35.1
        ],
        [
         "Benin",
         "Packaging",
         "High",
         0.09,
         0.6,
         7.3
        ],
        [
         "Chad",
         "Packaging",
         "Low",
         0.09,
         0.1,
         5.4
        ],
        [
         "Mauritius",
         "Packaging",
         "High",
         0.08,
         15.4,
         62.8
        ],
        [
         "Guinea",
         "Packaging",
         "High",
         0.08,
         0.5,
         6.0
        ],
        [
         "Republic of Congo",
         "Packaging",
         "High",
         0.08,
         0.9,
         14.2
        ],
        [
         "Botswana",
         "Packaging",
         "Low",
         0.07,
         8.9,
         29.3
        ],
        [
         "Togo",
         "Packaging",
         "High",
         0.07,
         0.8,
         8.3
        ],
        [
         "Mauritania",
         "Packaging",
         "High",
         0.07,
         0.4,
         14.8
        ],
        [
         "Fiji",
         "Packaging",
         "High",
         0.07,
         6.7,
         76.9
        ],
        [
         "Sierra Leone",
         "Packaging",
         "High",
         0.06,
         0.4,
         7.3
        ],
        [
         "Gabon",
         "Packaging",
         "High",
         0.06,
         2.3,
         26.4
        ],
        [
         "East Timor",
         "Packaging",
         "High",
         0.06,
         2.3,
         44.7
        ],
        [
         "Lesotho",
         "Packaging",
         "Low",
         0.05,
         0.7,
         23.2
        ],
        [
         "Liberia",
         "Packaging",
         "High",
         0.05,
         0.2,
         9.7
        ],
        [
         "Eritrea",
         "Packaging",
         "High",
         0.05,
         0.3,
         13.9
        ],
        [
         "Bhutan",
         "Packaging",
         "Low",
         0.05,
         12.3,
         64.2
        ],
        [
         "Guinea-Bissau",
         "Packaging",
         "High",
         0.04,
         0.3,
         19.8
        ],
        [
         "Central African Republic",
         "Packaging",
         "Low",
         0.04,
         0.2,
         8.1
        ],
        [
         "Maldives",
         "Packaging",
         "Very_High",
         0.04,
         3.2,
         72.8
        ],
        [
         "New Caledonia",
         "Packaging",
         "High",
         0.04,
         23.4,
         138.6
        ],
        [
         "Eswatini",
         "Packaging",
         "Low",
         0.03,
         1.2,
         25.6
        ],
        [
         "Djibouti",
         "Packaging",
         "High",
         0.03,
         1.1,
         29.7
        ],
        [
         "Solomon Islands",
         "Packaging",
         "High",
         0.03,
         0.8,
         42.9
        ],
        [
         "Comoros",
         "Packaging",
         "High",
         0.02,
         0.4,
         22.7
        ],
        [
         "Cape Verde",
         "Packaging",
         "High",
         0.02,
         3.4,
         35.6
        ],
        [
         "Gambia",
         "Packaging",
         "High",
         0.02,
         0.5,
         8.1
        ],
        [
         "Vanuatu",
         "Packaging",
         "High",
         0.02,
         1.1,
         63.8
        ],
        [
         "Seychelles",
         "Packaging",
         "High",
         0.01,
         18.9,
         101.2
        ],
        [
         "Sao Tome and Principe",
         "Packaging",
         "High",
         0.01,
         0.8,
         45.2
        ],
        [
         "Western Sahara",
         "Packaging",
         "High",
         0.01,
         0.2,
         18.5
        ],
        [
         "Samoa",
         "Packaging",
         "High",
         0.01,
         4.5,
         49.8
        ],
        [
         "Tonga",
         "Packaging",
         "High",
         0.01,
         3.2,
         92.7
        ],
        [
         "Kiribati",
         "Packaging",
         "High",
         0.01,
         2.1,
         82.4
        ],
        [
         "Marshall Islands",
         "Packaging",
         "High",
         0.01,
         1.8,
         168.5
        ],
        [
         "Micronesia",
         "Packaging",
         "High",
         0.01,
         1.5,
         86.3
        ],
        [
         "Palau",
         "Packaging",
         "High",
         0.01,
         12.3,
         437.2
        ],
        [
         "Tuvalu",
         "Packaging",
         "High",
         0.01,
         1.2,
         833.3
        ],
        [
         "Nauru",
         "Packaging",
         "High",
         0.01,
         0.9,
         927.8
        ]
       ],
       "datasetInfos": [],
       "dbfsResultPath": null,
       "isJsonSchema": true,
       "metadata": {},
       "overflow": false,
       "plotOptions": {
        "customPlotOptions": {},
        "displayType": "table",
        "pivotAggregation": null,
        "pivotColumns": null,
        "xColumns": null,
        "yColumns": null
       },
       "removedWidgets": [],
       "schema": [
        {
         "metadata": "{}",
         "name": "Country",
         "type": "\"string\""
        },
        {
         "metadata": "{}",
         "name": "Source_Type",
         "type": "\"string\""
        },
        {
         "metadata": "{}",
         "name": "Risk_Level",
         "type": "\"string\""
        },
        {
         "metadata": "{}",
         "name": "Total_Plastic_Waste_MT",
         "type": "\"double\""
        },
        {
         "metadata": "{}",
         "name": "Recycling_Rate",
         "type": "\"double\""
        },
        {
         "metadata": "{}",
         "name": "Per_Capita_Waste_KG",
         "type": "\"double\""
        }
       ],
       "type": "table"
      }
     },
     "output_type": "display_data"
    }
   ],
   "source": [
    "# Consulta dimensional exemplo\n",
    "star_query = \"\"\"\n",
    "SELECT \n",
    "    c.Country,\n",
    "    s.Source_Type,\n",
    "    r.Risk_Level,\n",
    "    f.Total_Plastic_Waste_MT,\n",
    "    f.Recycling_Rate,\n",
    "    f.Per_Capita_Waste_KG\n",
    "FROM gold_plastic_waste.fact_waste_metrics f\n",
    "JOIN gold_plastic_waste.dim_countries c ON f.Country = c.Country\n",
    "JOIN gold_plastic_waste.dim_sources s ON f.Main_Sources_Clean = s.Source_Type\n",
    "JOIN gold_plastic_waste.dim_risk_levels r ON f.Coastal_Risk_Level = r.Risk_ID\n",
    "ORDER BY f.Total_Plastic_Waste_MT DESC\n",
    "\"\"\"\n",
    "\n",
    "display(spark.sql(star_query))"
   ]
  },
  {
   "cell_type": "markdown",
   "metadata": {
    "application/vnd.databricks.v1+cell": {
     "cellMetadata": {
      "byteLimit": 2048000,
      "rowLimit": 10000
     },
     "inputWidgets": {},
     "nuid": "72ea2a0e-c20c-4a3a-91d1-060cc1b34426",
     "showTitle": false,
     "tableResultSettingsMap": {},
     "title": ""
    }
   },
   "source": [
    "**Análise Exploratória e Visualização**"
   ]
  },
  {
   "cell_type": "code",
   "execution_count": 0,
   "metadata": {
    "application/vnd.databricks.v1+cell": {
     "cellMetadata": {
      "byteLimit": 2048000,
      "rowLimit": 10000
     },
     "inputWidgets": {},
     "nuid": "ef730c51-8a08-4967-9dd2-8546a225fa8d",
     "showTitle": false,
     "tableResultSettingsMap": {},
     "title": ""
    }
   },
   "outputs": [
    {
     "output_type": "display_data",
     "data": {
      "text/html": [
       "<style scoped>\n",
       "  .table-result-container {\n",
       "    max-height: 300px;\n",
       "    overflow: auto;\n",
       "  }\n",
       "  table, th, td {\n",
       "    border: 1px solid black;\n",
       "    border-collapse: collapse;\n",
       "  }\n",
       "  th, td {\n",
       "    padding: 5px;\n",
       "  }\n",
       "  th {\n",
       "    text-align: left;\n",
       "  }\n",
       "</style><div class='table-result-container'><table class='table-result'><thead style='background-color: white'><tr><th>Country</th><th>Total_Plastic_Waste_MT</th><th>Main_Sources</th><th>Recycling_Rate</th><th>Per_Capita_Waste_KG</th><th>Coastal_Waste_Risk</th></tr></thead><tbody><tr><td>China</td><td>59.08</td><td>Packaging_Industrial</td><td>29.8</td><td>41.2</td><td>High</td></tr><tr><td>United States</td><td>42.02</td><td>Packaging_Consumer</td><td>32.1</td><td>127.5</td><td>Medium</td></tr><tr><td>India</td><td>26.33</td><td>Consumer_Goods</td><td>11.5</td><td>19.3</td><td>High</td></tr><tr><td>Japan</td><td>7.99</td><td>Packaging_Electronics</td><td>84.8</td><td>63.2</td><td>Medium</td></tr><tr><td>Germany</td><td>6.28</td><td>Automotive_Packaging</td><td>56.1</td><td>75.6</td><td>Low</td></tr><tr><td>Brazil</td><td>5.96</td><td>Consumer_Packaging</td><td>1.2</td><td>28.1</td><td>Medium</td></tr><tr><td>Indonesia</td><td>5.85</td><td>Food_Packaging</td><td>11.8</td><td>21.3</td><td>Very_High</td></tr><tr><td>Russia</td><td>5.84</td><td>Industrial_Consumer</td><td>5.6</td><td>40.2</td><td>Medium</td></tr><tr><td>United Kingdom</td><td>5.03</td><td>Packaging_Consumer</td><td>46.2</td><td>74.3</td><td>Low</td></tr><tr><td>France</td><td>4.98</td><td>Packaging_Consumer</td><td>27.3</td><td>73.1</td><td>Low</td></tr></tbody></table></div>"
      ]
     },
     "metadata": {
      "application/vnd.databricks.v1+output": {
       "addedWidgets": {},
       "aggData": [],
       "aggError": "",
       "aggOverflow": false,
       "aggSchema": [],
       "aggSeriesLimitReached": false,
       "aggType": "",
       "arguments": {},
       "columnCustomDisplayInfos": {},
       "data": [
        [
         "China",
         59.08,
         "Packaging_Industrial",
         29.8,
         41.2,
         "High"
        ],
        [
         "United States",
         42.02,
         "Packaging_Consumer",
         32.1,
         127.5,
         "Medium"
        ],
        [
         "India",
         26.33,
         "Consumer_Goods",
         11.5,
         19.3,
         "High"
        ],
        [
         "Japan",
         7.99,
         "Packaging_Electronics",
         84.8,
         63.2,
         "Medium"
        ],
        [
         "Germany",
         6.28,
         "Automotive_Packaging",
         56.1,
         75.6,
         "Low"
        ],
        [
         "Brazil",
         5.96,
         "Consumer_Packaging",
         1.2,
         28.1,
         "Medium"
        ],
        [
         "Indonesia",
         5.85,
         "Food_Packaging",
         11.8,
         21.3,
         "Very_High"
        ],
        [
         "Russia",
         5.84,
         "Industrial_Consumer",
         5.6,
         40.2,
         "Medium"
        ],
        [
         "United Kingdom",
         5.03,
         "Packaging_Consumer",
         46.2,
         74.3,
         "Low"
        ],
        [
         "France",
         4.98,
         "Packaging_Consumer",
         27.3,
         73.1,
         "Low"
        ]
       ],
       "datasetInfos": [],
       "dbfsResultPath": null,
       "isJsonSchema": true,
       "metadata": {},
       "overflow": false,
       "plotOptions": {
        "customPlotOptions": {},
        "displayType": "table",
        "pivotAggregation": null,
        "pivotColumns": null,
        "xColumns": null,
        "yColumns": null
       },
       "removedWidgets": [],
       "schema": [
        {
         "metadata": "{}",
         "name": "Country",
         "type": "\"string\""
        },
        {
         "metadata": "{}",
         "name": "Total_Plastic_Waste_MT",
         "type": "\"double\""
        },
        {
         "metadata": "{}",
         "name": "Main_Sources",
         "type": "\"string\""
        },
        {
         "metadata": "{}",
         "name": "Recycling_Rate",
         "type": "\"double\""
        },
        {
         "metadata": "{}",
         "name": "Per_Capita_Waste_KG",
         "type": "\"double\""
        },
        {
         "metadata": "{}",
         "name": "Coastal_Waste_Risk",
         "type": "\"string\""
        }
       ],
       "type": "table"
      }
     },
     "output_type": "display_data"
    }
   ],
   "source": [
    "from pyspark.sql.functions import desc\n",
    "\n",
    "# 1. Análise básica\n",
    "top_10_paises = (plastic_waste_df\n",
    "    .orderBy(desc(\"Total_Plastic_Waste_MT\"))\n",
    "    .limit(10))\n",
    "display(top_10_paises)\n"
   ]
  },
  {
   "cell_type": "markdown",
   "metadata": {
    "application/vnd.databricks.v1+cell": {
     "cellMetadata": {
      "byteLimit": 2048000,
      "rowLimit": 10000
     },
     "inputWidgets": {},
     "nuid": "f582d671-b4e6-4b71-9993-09dd873277f2",
     "showTitle": false,
     "tableResultSettingsMap": {},
     "title": ""
    }
   },
   "source": [
    "**2. Análise de reciclagem**"
   ]
  },
  {
   "cell_type": "markdown",
   "metadata": {
    "application/vnd.databricks.v1+cell": {
     "cellMetadata": {
      "byteLimit": 2048000,
      "rowLimit": 10000
     },
     "inputWidgets": {},
     "nuid": "beed76f2-2fc4-41ec-b264-f32854d5c805",
     "showTitle": false,
     "tableResultSettingsMap": {},
     "title": ""
    }
   },
   "source": [
    "A. Maiores Geradores de Resíduos"
   ]
  },
  {
   "cell_type": "code",
   "execution_count": 0,
   "metadata": {
    "application/vnd.databricks.v1+cell": {
     "cellMetadata": {
      "byteLimit": 2048000,
      "rowLimit": 10000
     },
     "inputWidgets": {},
     "nuid": "8279e6c4-b039-431e-a341-8328341dd835",
     "showTitle": false,
     "tableResultSettingsMap": {},
     "title": ""
    }
   },
   "outputs": [
    {
     "output_type": "display_data",
     "data": {
      "text/html": [
       "<style scoped>\n",
       "  .table-result-container {\n",
       "    max-height: 300px;\n",
       "    overflow: auto;\n",
       "  }\n",
       "  table, th, td {\n",
       "    border: 1px solid black;\n",
       "    border-collapse: collapse;\n",
       "  }\n",
       "  th, td {\n",
       "    padding: 5px;\n",
       "  }\n",
       "  th {\n",
       "    text-align: left;\n",
       "  }\n",
       "</style><div class='table-result-container'><table class='table-result'><thead style='background-color: white'><tr><th>Country</th><th>Total_Plastic_Waste_MT</th></tr></thead><tbody><tr><td>China</td><td>59.08</td></tr><tr><td>United States</td><td>42.02</td></tr><tr><td>India</td><td>26.33</td></tr><tr><td>Japan</td><td>7.99</td></tr><tr><td>Germany</td><td>6.28</td></tr></tbody></table></div>"
      ]
     },
     "metadata": {
      "application/vnd.databricks.v1+output": {
       "addedWidgets": {},
       "aggData": [],
       "aggError": "",
       "aggOverflow": false,
       "aggSchema": [],
       "aggSeriesLimitReached": false,
       "aggType": "",
       "arguments": {},
       "columnCustomDisplayInfos": {},
       "data": [
        [
         "China",
         59.08
        ],
        [
         "United States",
         42.02
        ],
        [
         "India",
         26.33
        ],
        [
         "Japan",
         7.99
        ],
        [
         "Germany",
         6.28
        ]
       ],
       "datasetInfos": [],
       "dbfsResultPath": null,
       "isJsonSchema": true,
       "metadata": {},
       "overflow": false,
       "plotOptions": {
        "customPlotOptions": {},
        "displayType": "table",
        "pivotAggregation": null,
        "pivotColumns": null,
        "xColumns": null,
        "yColumns": null
       },
       "removedWidgets": [],
       "schema": [
        {
         "metadata": "{}",
         "name": "Country",
         "type": "\"string\""
        },
        {
         "metadata": "{}",
         "name": "Total_Plastic_Waste_MT",
         "type": "\"double\""
        }
       ],
       "type": "table"
      }
     },
     "output_type": "display_data"
    }
   ],
   "source": [
    "top_poluidores = spark.sql(\"\"\"\n",
    "SELECT Country, Total_Plastic_Waste_MT \n",
    "FROM gold_plastic_waste.fact_waste_metrics \n",
    "ORDER BY Total_Plastic_Waste_MT DESC \n",
    "LIMIT 5\n",
    "\"\"\")\n",
    "display(top_poluidores)"
   ]
  },
  {
   "cell_type": "markdown",
   "metadata": {
    "application/vnd.databricks.v1+cell": {
     "cellMetadata": {
      "byteLimit": 2048000,
      "rowLimit": 10000
     },
     "inputWidgets": {},
     "nuid": "02219821-d3f6-4568-a0e1-53f37c108294",
     "showTitle": false,
     "tableResultSettingsMap": {},
     "title": ""
    }
   },
   "source": [
    "Resultados:\n",
    "\n",
    "China - 59.08 MT\n",
    "\n",
    "Estados Unidos - 42.02 MT\n",
    "\n",
    "Índia - 26.33 MT\n",
    "\n",
    "Japão - 7.99 MT\n",
    "\n",
    "Alemanha - 6.28 MT"
   ]
  },
  {
   "cell_type": "markdown",
   "metadata": {
    "application/vnd.databricks.v1+cell": {
     "cellMetadata": {
      "byteLimit": 2048000,
      "rowLimit": 10000
     },
     "inputWidgets": {},
     "nuid": "ee0580b3-4a52-4638-93f6-48006910b69f",
     "showTitle": false,
     "tableResultSettingsMap": {},
     "title": ""
    }
   },
   "source": [
    "**B. Eficiência de Reciclagem**"
   ]
  },
  {
   "cell_type": "code",
   "execution_count": 0,
   "metadata": {
    "application/vnd.databricks.v1+cell": {
     "cellMetadata": {
      "byteLimit": 2048000,
      "rowLimit": 10000
     },
     "inputWidgets": {},
     "nuid": "49cd9f00-ddb3-4eac-ae76-9640851852ff",
     "showTitle": false,
     "tableResultSettingsMap": {},
     "title": ""
    }
   },
   "outputs": [
    {
     "output_type": "display_data",
     "data": {
      "text/html": [
       "<style scoped>\n",
       "  .table-result-container {\n",
       "    max-height: 300px;\n",
       "    overflow: auto;\n",
       "  }\n",
       "  table, th, td {\n",
       "    border: 1px solid black;\n",
       "    border-collapse: collapse;\n",
       "  }\n",
       "  th, td {\n",
       "    padding: 5px;\n",
       "  }\n",
       "  th {\n",
       "    text-align: left;\n",
       "  }\n",
       "</style><div class='table-result-container'><table class='table-result'><thead style='background-color: white'><tr><th>Country</th><th>Recycling_Rate</th></tr></thead><tbody><tr><td>Japan</td><td>84.8</td></tr><tr><td>Singapore</td><td>59.8</td></tr><tr><td>South Korea</td><td>59.1</td></tr><tr><td>Austria</td><td>56.4</td></tr><tr><td>Germany</td><td>56.1</td></tr></tbody></table></div>"
      ]
     },
     "metadata": {
      "application/vnd.databricks.v1+output": {
       "addedWidgets": {},
       "aggData": [],
       "aggError": "",
       "aggOverflow": false,
       "aggSchema": [],
       "aggSeriesLimitReached": false,
       "aggType": "",
       "arguments": {},
       "columnCustomDisplayInfos": {},
       "data": [
        [
         "Japan",
         84.8
        ],
        [
         "Singapore",
         59.8
        ],
        [
         "South Korea",
         59.1
        ],
        [
         "Austria",
         56.4
        ],
        [
         "Germany",
         56.1
        ]
       ],
       "datasetInfos": [],
       "dbfsResultPath": null,
       "isJsonSchema": true,
       "metadata": {},
       "overflow": false,
       "plotOptions": {
        "customPlotOptions": {},
        "displayType": "table",
        "pivotAggregation": null,
        "pivotColumns": null,
        "xColumns": null,
        "yColumns": null
       },
       "removedWidgets": [],
       "schema": [
        {
         "metadata": "{}",
         "name": "Country",
         "type": "\"string\""
        },
        {
         "metadata": "{}",
         "name": "Recycling_Rate",
         "type": "\"double\""
        }
       ],
       "type": "table"
      }
     },
     "output_type": "display_data"
    }
   ],
   "source": [
    "reciclagem = spark.sql(\"\"\"\n",
    "SELECT Country, Recycling_Rate \n",
    "FROM gold_plastic_waste.fact_waste_metrics \n",
    "ORDER BY Recycling_Rate DESC \n",
    "LIMIT 5\n",
    "\"\"\")\n",
    "display(reciclagem)"
   ]
  },
  {
   "cell_type": "markdown",
   "metadata": {
    "application/vnd.databricks.v1+cell": {
     "cellMetadata": {
      "byteLimit": 2048000,
      "rowLimit": 10000
     },
     "inputWidgets": {},
     "nuid": "acec360c-1690-4dcc-b812-0e1ea580edf8",
     "showTitle": false,
     "tableResultSettingsMap": {},
     "title": ""
    }
   },
   "source": [
    "**C. Risco Costeiro**"
   ]
  },
  {
   "cell_type": "code",
   "execution_count": 0,
   "metadata": {
    "application/vnd.databricks.v1+cell": {
     "cellMetadata": {
      "byteLimit": 2048000,
      "rowLimit": 10000
     },
     "inputWidgets": {},
     "nuid": "2cc33c0d-25c5-4717-8fd9-ed2b61fc4f31",
     "showTitle": false,
     "tableResultSettingsMap": {},
     "title": ""
    }
   },
   "outputs": [
    {
     "output_type": "display_data",
     "data": {
      "text/html": [
       "<style scoped>\n",
       "  .table-result-container {\n",
       "    max-height: 300px;\n",
       "    overflow: auto;\n",
       "  }\n",
       "  table, th, td {\n",
       "    border: 1px solid black;\n",
       "    border-collapse: collapse;\n",
       "  }\n",
       "  th, td {\n",
       "    padding: 5px;\n",
       "  }\n",
       "  th {\n",
       "    text-align: left;\n",
       "  }\n",
       "</style><div class='table-result-container'><table class='table-result'><thead style='background-color: white'><tr><th>Risk_Level</th><th>Risk_ID</th><th>Num_Paises</th></tr></thead><tbody><tr><td>Low</td><td>1</td><td>54</td></tr><tr><td>Medium</td><td>2</td><td>33</td></tr><tr><td>High</td><td>3</td><td>74</td></tr><tr><td>Very_High</td><td>4</td><td>4</td></tr></tbody></table></div>"
      ]
     },
     "metadata": {
      "application/vnd.databricks.v1+output": {
       "addedWidgets": {},
       "aggData": [],
       "aggError": "",
       "aggOverflow": false,
       "aggSchema": [],
       "aggSeriesLimitReached": false,
       "aggType": "",
       "arguments": {},
       "columnCustomDisplayInfos": {},
       "data": [
        [
         "Low",
         1,
         54
        ],
        [
         "Medium",
         2,
         33
        ],
        [
         "High",
         3,
         74
        ],
        [
         "Very_High",
         4,
         4
        ]
       ],
       "datasetInfos": [],
       "dbfsResultPath": null,
       "isJsonSchema": true,
       "metadata": {},
       "overflow": false,
       "plotOptions": {
        "customPlotOptions": {},
        "displayType": "table",
        "pivotAggregation": null,
        "pivotColumns": null,
        "xColumns": null,
        "yColumns": null
       },
       "removedWidgets": [],
       "schema": [
        {
         "metadata": "{}",
         "name": "Risk_Level",
         "type": "\"string\""
        },
        {
         "metadata": "{}",
         "name": "Risk_ID",
         "type": "\"long\""
        },
        {
         "metadata": "{}",
         "name": "Num_Paises",
         "type": "\"long\""
        }
       ],
       "type": "table"
      }
     },
     "output_type": "display_data"
    }
   ],
   "source": [
    "risco = spark.sql(\"\"\"\n",
    "SELECT \n",
    "    r.Risk_Level, \n",
    "    r.Risk_ID,\n",
    "    COUNT(*) as Num_Paises\n",
    "FROM \n",
    "    gold_plastic_waste.fact_waste_metrics f\n",
    "JOIN \n",
    "    gold_plastic_waste.dim_risk_levels r\n",
    "ON \n",
    "    f.Coastal_Risk_Level = r.Risk_ID\n",
    "GROUP BY \n",
    "    r.Risk_Level, r.Risk_ID\n",
    "ORDER BY \n",
    "    r.Risk_ID\n",
    "\"\"\")\n",
    "\n",
    "display(risco)\n",
    "\n"
   ]
  },
  {
   "cell_type": "markdown",
   "metadata": {
    "application/vnd.databricks.v1+cell": {
     "cellMetadata": {
      "byteLimit": 2048000,
      "rowLimit": 10000
     },
     "inputWidgets": {},
     "nuid": "3a2d4d7a-a919-4180-beef-a14e56a16338",
     "showTitle": false,
     "tableResultSettingsMap": {},
     "title": ""
    }
   },
   "source": [
    "**D.Correlações**"
   ]
  },
  {
   "cell_type": "code",
   "execution_count": 0,
   "metadata": {
    "application/vnd.databricks.v1+cell": {
     "cellMetadata": {
      "byteLimit": 2048000,
      "rowLimit": 10000
     },
     "inputWidgets": {},
     "nuid": "017bd5fe-4d2f-495e-941e-761b117116af",
     "showTitle": false,
     "tableResultSettingsMap": {},
     "title": ""
    }
   },
   "outputs": [
    {
     "output_type": "display_data",
     "data": {
      "image/png": "[encoded data removed]"
     },
     "metadata": {
      "application/vnd.databricks.v1+output": {
       "addedWidgets": {},
       "arguments": {},
       "data": "data:image/png;base64,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\n",
       "datasetInfos": [],
       "metadata": {},
       "removedWidgets": [],
       "type": "image"
      }
     },
     "output_type": "display_data"
    }
   ],
   "source": [
    "\n",
    "import pandas as pd\n",
    "import matplotlib.pyplot as plt\n",
    "import seaborn as sns\n",
    "\n",
    "corr_data = spark.sql(\"\"\"\n",
    "SELECT \n",
    "    Total_Plastic_Waste_MT, \n",
    "    Recycling_Rate, \n",
    "    Per_Capita_Waste_KG, \n",
    "    Coastal_Risk_Level\n",
    "FROM \n",
    "    gold_plastic_waste.fact_waste_metrics\n",
    "\"\"\").toPandas()\n",
    "\n",
    "plt.figure(figsize=(8,6))\n",
    "sns.heatmap(corr_data.corr(), annot=True, cmap='coolwarm', center=0)\n",
    "plt.title('Correlação entre Variáveis-Chave')\n",
    "plt.show()\n",
    "\n"
   ]
  },
  {
   "cell_type": "markdown",
   "metadata": {
    "application/vnd.databricks.v1+cell": {
     "cellMetadata": {
      "byteLimit": 2048000,
      "rowLimit": 10000
     },
     "inputWidgets": {},
     "nuid": "57f2d4f2-8148-4f59-bc4d-153622e6c505",
     "showTitle": false,
     "tableResultSettingsMap": {},
     "title": ""
    }
   },
   "source": [
    "# **# Interpretação da Matriz de Correlação**\n",
    "A matriz de correlação mostra as relações estatísticas entre quatro variáveis importantes no conjunto de dados sobre resíduos plásticos. Vamos analisar cada relação:\n",
    "\n",
    "### 1. Total_Plastic_Waste_MT (Total de Resíduos Plásticos em Milhões de Toneladas)\n",
    "Correlação com Recycling_Rate (-0.32): Existe uma fraca correlação negativa, sugerindo que países que geram mais resíduos plásticos totais tendem a ter taxas de reciclagem ligeiramente menores. Isso pode indicar que nações industrializadas com alta produção ainda não otimizaram seus sistemas de reciclagem.\n",
    "\n",
    "### 2. Recycling_Rate (Taxa de Reciclagem)\n",
    "Correlação com Per_Capita_Waste_KG (-0.19): Correlação negativa muito fraca, indicando que países com maior geração per capita de resíduos não necessariamente reciclam menos. Alguns países desenvolvidos com alto consumo per capita mantêm boas taxas de reciclagem.\n",
    "\n",
    "Correlação com Coastal_Risk_Level (-0.25): Fraca correlação negativa, sugerindo que países com maior risco costeiro tendem a reciclar menos, possivelmente por falta de infraestrutura.\n",
    "\n",
    "### 3. Per_Capita_Waste_KG (Resíduos per Capita em KG)\n",
    "Correlação com Coastal_Risk_Level (0.45): Correlação positiva moderada, indicando que países com maior geração de resíduos per capita tendem a ter maiores riscos de poluição costeira. Isso faz sentido, pois maior consumo leva a mais descarte inadequado.\n",
    "\n",
    "### 4. Coastal_Risk_Level (Nível de Risco Costeiro)\n",
    "Correlação mais forte com Per_Capita_Waste_KG (0.45): Confirma que o consumo individual é um fator significativo no risco ambiental costeiro.\n",
    "\n",
    "## **Principais Insights:**\n",
    "Dilema desenvolvimento-sustentabilidade: Países que produzem mais resíduos (desenvolvidos/industrializados) ainda não igualaram essa capacidade com sistemas de reciclagem equivalentes.\n",
    "\n",
    "Consumo individual é crítico: A correlação mais forte (0.45) mostra que o comportamento de consumo per capita impacta diretamente o risco ambiental costeiro.\n",
    "\n",
    "Oportunidade para políticas integradas: As correlações negativas sugerem que melhorar sistemas de reciclagem poderia ajudar a reduzir tanto o volume total quanto os riscos costeiros.\n",
    "\n",
    "\n",
    "Esses resultados sugerem que políticas públicas deveriam focar tanto na redução do consumo per capita quanto no fortalecimento da infraestrutura de reciclagem, especialmente em países costeiros."
   ]
  },
  {
   "cell_type": "markdown",
   "metadata": {
    "application/vnd.databricks.v1+cell": {
     "cellMetadata": {
      "byteLimit": 2048000,
      "rowLimit": 10000
     },
     "inputWidgets": {},
     "nuid": "771e663f-c9f7-488a-8ff5-05a0f51bf198",
     "showTitle": false,
     "tableResultSettingsMap": {},
     "title": ""
    }
   },
   "source": [
    "# **1. Limitações e Próximos Passos**\n",
    "Limitações Atuais\n",
    "Dados estão restritos a um ano (sem análise temporal).\n",
    "\n",
    "Falta de variáveis como PIB ou população para normalização.\n",
    "\n",
    "Melhorias Futuras\n",
    "Incorporar dados históricos para tendências.\n",
    "\n",
    "# **2. Autoavaliação**\n",
    "Pergunta\tResposta?\tDificuldade\tObservações\n",
    "> Top poluidores\t✅ Sim\tBaixa\tDados consistentes\n",
    "> Risco costeiro\t✅ Sim\tMédia\tFaltou detalhar por região\n",
    "> Correlação com PIB\t❌ Não\tAlta\tDados externos necessários\n",
    "Discussão:\n",
    "\n",
    "80% das perguntas foram respondidas com os dados disponíveis.\n",
    "\n",
    "As não respondidas exigem integração com novas bases (próxima fase)."
   ]
  },
  {
   "cell_type": "markdown",
   "metadata": {
    "application/vnd.databricks.v1+cell": {
     "cellMetadata": {
      "byteLimit": 2048000,
      "rowLimit": 10000
     },
     "inputWidgets": {},
     "nuid": "5ec5af7a-1752-4999-8232-6ec6099a2a10",
     "showTitle": false,
     "tableResultSettingsMap": {},
     "title": ""
    }
   },
   "source": [
    "# **Catálogo**"
   ]
  },
  {
   "cell_type": "code",
   "execution_count": 0,
   "metadata": {
    "application/vnd.databricks.v1+cell": {
     "cellMetadata": {
      "byteLimit": 2048000,
      "rowLimit": 10000
     },
     "inputWidgets": {},
     "nuid": "0894ca6a-44a2-4e3a-81f3-87216e090b40",
     "showTitle": false,
     "tableResultSettingsMap": {},
     "title": ""
    }
   },
   "outputs": [
    {
     "output_type": "stream",
     "name": "stdout",
     "output_type": "stream",
     "text": [
      "Catálogo criado com sucesso! Resumo:\n"
     ]
    },
    {
     "output_type": "display_data",
     "data": {
      "text/html": [
       "<style scoped>\n",
       "  .table-result-container {\n",
       "    max-height: 300px;\n",
       "    overflow: auto;\n",
       "  }\n",
       "  table, th, td {\n",
       "    border: 1px solid black;\n",
       "    border-collapse: collapse;\n",
       "  }\n",
       "  th, td {\n",
       "    padding: 5px;\n",
       "  }\n",
       "  th {\n",
       "    text-align: left;\n",
       "  }\n",
       "</style><div class='table-result-container'><table class='table-result'><thead style='background-color: white'><tr><th>camada</th><th>tabela</th><th>descricao</th><th>qtd_colunas</th><th>qtd_registros</th><th>atualizacao</th></tr></thead><tbody><tr><td>bronze</td><td>raw_data</td><td>Dados brutos originais</td><td>6</td><td>165</td><td>2025-04-11T01:07:49.350+0000</td></tr><tr><td>bronze</td><td>raw_data</td><td>Dados brutos originais</td><td>6</td><td>165</td><td>2025-04-11T01:06:52.632+0000</td></tr><tr><td>bronze</td><td>raw_data</td><td>Dados brutos originais</td><td>6</td><td>165</td><td>2025-04-11T01:14:39.183+0000</td></tr><tr><td>bronze</td><td>raw_data</td><td>Dados brutos originais</td><td>6</td><td>165</td><td>2025-04-11T01:06:00.626+0000</td></tr><tr><td>bronze</td><td>raw_data</td><td>Dados brutos originais</td><td>6</td><td>165</td><td>2025-04-11T00:58:28.551+0000</td></tr><tr><td>silver</td><td>cleaned_data</td><td>Dados tratados e padronizados</td><td>6</td><td>165</td><td>2025-04-11T01:07:54.573+0000</td></tr><tr><td>silver</td><td>cleaned_data</td><td>Dados tratados e padronizados</td><td>6</td><td>165</td><td>2025-04-11T00:58:34.338+0000</td></tr><tr><td>silver</td><td>cleaned_data</td><td>Dados tratados e padronizados</td><td>6</td><td>165</td><td>2025-04-11T01:14:44.299+0000</td></tr><tr><td>silver</td><td>cleaned_data</td><td>Dados tratados</td><td>6</td><td>165</td><td>2025-04-11T01:06:06.157+0000</td></tr><tr><td>silver</td><td>cleaned_data</td><td>Dados tratados</td><td>6</td><td>165</td><td>2025-04-11T01:06:57.247+0000</td></tr><tr><td>gold</td><td>dim_countries</td><td>Dimensão de países</td><td>2</td><td>165</td><td>2025-04-11T01:06:14.038+0000</td></tr><tr><td>gold</td><td>dim_countries</td><td>Dimensão de países</td><td>2</td><td>165</td><td>2025-04-11T01:14:54.060+0000</td></tr><tr><td>gold</td><td>dim_countries</td><td>Dimensão de países</td><td>2</td><td>165</td><td>2025-04-11T00:58:44.006+0000</td></tr><tr><td>gold</td><td>dim_countries</td><td>Dimensão de países</td><td>2</td><td>165</td><td>2025-04-11T01:08:07.236+0000</td></tr><tr><td>gold</td><td>dim_countries</td><td>Dimensão de países</td><td>2</td><td>165</td><td>2025-04-11T01:07:07.280+0000</td></tr><tr><td>gold</td><td>dim_risk_levels</td><td>Dimensão de níveis de risco</td><td>2</td><td>4</td><td>2025-04-11T01:08:16.004+0000</td></tr><tr><td>gold</td><td>dim_risk_levels</td><td>Dimensão de riscos</td><td>2</td><td>4</td><td>2025-04-11T01:06:28.852+0000</td></tr><tr><td>gold</td><td>dim_risk_levels</td><td>Dimensão de níveis de risco</td><td>2</td><td>4</td><td>2025-04-11T01:15:04.480+0000</td></tr><tr><td>gold</td><td>dim_risk_levels</td><td>Dimensão de riscos</td><td>2</td><td>4</td><td>2025-04-11T01:07:17.966+0000</td></tr><tr><td>gold</td><td>dim_risk_levels</td><td>Dimensão de níveis de risco</td><td>2</td><td>4</td><td>2025-04-11T00:58:55.349+0000</td></tr><tr><td>gold</td><td>dim_sources</td><td>Dimensão de fontes</td><td>2</td><td>2</td><td>2025-04-11T01:14:59.170+0000</td></tr><tr><td>gold</td><td>dim_sources</td><td>Dimensão de fontes</td><td>2</td><td>2</td><td>2025-04-11T01:08:12.275+0000</td></tr><tr><td>gold</td><td>dim_sources</td><td>Dimensão de fontes</td><td>2</td><td>2</td><td>2025-04-11T01:06:21.117+0000</td></tr><tr><td>gold</td><td>dim_sources</td><td>Dimensão de fontes</td><td>2</td><td>2</td><td>2025-04-11T01:07:13.621+0000</td></tr><tr><td>gold</td><td>dim_sources</td><td>Dimensão de fontes</td><td>2</td><td>2</td><td>2025-04-11T00:58:50.514+0000</td></tr><tr><td>gold</td><td>fact_waste_metrics</td><td>Tabela fato principal</td><td>5</td><td>165</td><td>2025-04-11T01:07:02.685+0000</td></tr><tr><td>gold</td><td>fact_waste_metrics</td><td>Tabela fato principal</td><td>5</td><td>165</td><td>2025-04-11T00:58:39.669+0000</td></tr><tr><td>gold</td><td>fact_waste_metrics</td><td>Tabela fato principal</td><td>5</td><td>165</td><td>2025-04-11T01:06:09.826+0000</td></tr><tr><td>gold</td><td>fact_waste_metrics</td><td>Tabela fato principal</td><td>5</td><td>165</td><td>2025-04-11T01:14:50.424+0000</td></tr><tr><td>gold</td><td>fact_waste_metrics</td><td>Tabela fato principal</td><td>5</td><td>165</td><td>2025-04-11T01:08:01.340+0000</td></tr></tbody></table></div>"
      ]
     },
     "metadata": {
      "application/vnd.databricks.v1+output": {
       "addedWidgets": {},
       "aggData": [],
       "aggError": "",
       "aggOverflow": false,
       "aggSchema": [],
       "aggSeriesLimitReached": false,
       "aggType": "",
       "arguments": {},
       "columnCustomDisplayInfos": {},
       "data": [
        [
         "bronze",
         "raw_data",
         "Dados brutos originais",
         6,
         165,
         "2025-04-11T01:07:49.350+0000"
        ],
        [
         "bronze",
         "raw_data",
         "Dados brutos originais",
         6,
         165,
         "2025-04-11T01:06:52.632+0000"
        ],
        [
         "bronze",
         "raw_data",
         "Dados brutos originais",
         6,
         165,
         "2025-04-11T01:14:39.183+0000"
        ],
        [
         "bronze",
         "raw_data",
         "Dados brutos originais",
         6,
         165,
         "2025-04-11T01:06:00.626+0000"
        ],
        [
         "bronze",
         "raw_data",
         "Dados brutos originais",
         6,
         165,
         "2025-04-11T00:58:28.551+0000"
        ],
        [
         "silver",
         "cleaned_data",
         "Dados tratados e padronizados",
         6,
         165,
         "2025-04-11T01:07:54.573+0000"
        ],
        [
         "silver",
         "cleaned_data",
         "Dados tratados e padronizados",
         6,
         165,
         "2025-04-11T00:58:34.338+0000"
        ],
        [
         "silver",
         "cleaned_data",
         "Dados tratados e padronizados",
         6,
         165,
         "2025-04-11T01:14:44.299+0000"
        ],
        [
         "silver",
         "cleaned_data",
         "Dados tratados",
         6,
         165,
         "2025-04-11T01:06:06.157+0000"
        ],
        [
         "silver",
         "cleaned_data",
         "Dados tratados",
         6,
         165,
         "2025-04-11T01:06:57.247+0000"
        ],
        [
         "gold",
         "dim_countries",
         "Dimensão de países",
         2,
         165,
         "2025-04-11T01:06:14.038+0000"
        ],
        [
         "gold",
         "dim_countries",
         "Dimensão de países",
         2,
         165,
         "2025-04-11T01:14:54.060+0000"
        ],
        [
         "gold",
         "dim_countries",
         "Dimensão de países",
         2,
         165,
         "2025-04-11T00:58:44.006+0000"
        ],
        [
         "gold",
         "dim_countries",
         "Dimensão de países",
         2,
         165,
         "2025-04-11T01:08:07.236+0000"
        ],
        [
         "gold",
         "dim_countries",
         "Dimensão de países",
         2,
         165,
         "2025-04-11T01:07:07.280+0000"
        ],
        [
         "gold",
         "dim_risk_levels",
         "Dimensão de níveis de risco",
         2,
         4,
         "2025-04-11T01:08:16.004+0000"
        ],
        [
         "gold",
         "dim_risk_levels",
         "Dimensão de riscos",
         2,
         4,
         "2025-04-11T01:06:28.852+0000"
        ],
        [
         "gold",
         "dim_risk_levels",
         "Dimensão de níveis de risco",
         2,
         4,
         "2025-04-11T01:15:04.480+0000"
        ],
        [
         "gold",
         "dim_risk_levels",
         "Dimensão de riscos",
         2,
         4,
         "2025-04-11T01:07:17.966+0000"
        ],
        [
         "gold",
         "dim_risk_levels",
         "Dimensão de níveis de risco",
         2,
         4,
         "2025-04-11T00:58:55.349+0000"
        ],
        [
         "gold",
         "dim_sources",
         "Dimensão de fontes",
         2,
         2,
         "2025-04-11T01:14:59.170+0000"
        ],
        [
         "gold",
         "dim_sources",
         "Dimensão de fontes",
         2,
         2,
         "2025-04-11T01:08:12.275+0000"
        ],
        [
         "gold",
         "dim_sources",
         "Dimensão de fontes",
         2,
         2,
         "2025-04-11T01:06:21.117+0000"
        ],
        [
         "gold",
         "dim_sources",
         "Dimensão de fontes",
         2,
         2,
         "2025-04-11T01:07:13.621+0000"
        ],
        [
         "gold",
         "dim_sources",
         "Dimensão de fontes",
         2,
         2,
         "2025-04-11T00:58:50.514+0000"
        ],
        [
         "gold",
         "fact_waste_metrics",
         "Tabela fato principal",
         5,
         165,
         "2025-04-11T01:07:02.685+0000"
        ],
        [
         "gold",
         "fact_waste_metrics",
         "Tabela fato principal",
         5,
         165,
         "2025-04-11T00:58:39.669+0000"
        ],
        [
         "gold",
         "fact_waste_metrics",
         "Tabela fato principal",
         5,
         165,
         "2025-04-11T01:06:09.826+0000"
        ],
        [
         "gold",
         "fact_waste_metrics",
         "Tabela fato principal",
         5,
         165,
         "2025-04-11T01:14:50.424+0000"
        ],
        [
         "gold",
         "fact_waste_metrics",
         "Tabela fato principal",
         5,
         165,
         "2025-04-11T01:08:01.340+0000"
        ]
       ],
       "datasetInfos": [],
       "dbfsResultPath": null,
       "isJsonSchema": true,
       "metadata": {},
       "overflow": false,
       "plotOptions": {
        "customPlotOptions": {},
        "displayType": "table",
        "pivotAggregation": null,
        "pivotColumns": null,
        "xColumns": null,
        "yColumns": null
       },
       "removedWidgets": [],
       "schema": [
        {
         "metadata": "{}",
         "name": "camada",
         "type": "\"string\""
        },
        {
         "metadata": "{}",
         "name": "tabela",
         "type": "\"string\""
        },
        {
         "metadata": "{}",
         "name": "descricao",
         "type": "\"string\""
        },
        {
         "metadata": "{}",
         "name": "qtd_colunas",
         "type": "\"integer\""
        },
        {
         "metadata": "{}",
         "name": "qtd_registros",
         "type": "\"long\""
        },
        {
         "metadata": "{}",
         "name": "atualizacao",
         "type": "\"timestamp\""
        }
       ],
       "type": "table"
      }
     },
     "output_type": "display_data"
    }
   ],
   "source": [
    "\n",
    "from pyspark.sql.functions import current_timestamp\n",
    "\n",
    "# 1. Criar database do catálogo (se não existir)\n",
    "spark.sql(\"CREATE DATABASE IF NOT EXISTS plastic_waste_catalog\")\n",
    "\n",
    "# 2. Tabela principal de metadados\n",
    "spark.sql(\"\"\"\n",
    "CREATE TABLE IF NOT EXISTS plastic_waste_catalog.master_metadata (\n",
    "    camada STRING,\n",
    "    tabela STRING,\n",
    "    descricao STRING,\n",
    "    qtd_colunas INT,\n",
    "    qtd_registros LONG,\n",
    "    atualizacao TIMESTAMP\n",
    ")\n",
    "\"\"\")\n",
    "\n",
    "# 3. Popular com dados das 3 camadas\n",
    "camadas = [\n",
    "    (\"bronze\", \"raw_data\", \"Dados brutos originais\", 6),\n",
    "    (\"silver\", \"cleaned_data\", \"Dados tratados e padronizados\", 6), \n",
    "    (\"gold\", \"fact_waste_metrics\", \"Tabela fato principal\", 5),\n",
    "    (\"gold\", \"dim_countries\", \"Dimensão de países\", 2),\n",
    "    (\"gold\", \"dim_sources\", \"Dimensão de fontes\", 2),\n",
    "    (\"gold\", \"dim_risk_levels\", \"Dimensão de níveis de risco\", 2)\n",
    "]\n",
    "\n",
    "for camada, tabela, desc, n_cols in camadas:\n",
    "    # Contar registros\n",
    "    qtd = spark.table(f\"{camada}_plastic_waste.{tabela}\").count()\n",
    "    \n",
    "    # Inserir metadados\n",
    "    spark.sql(f\"\"\"\n",
    "    INSERT INTO plastic_waste_catalog.master_metadata VALUES\n",
    "    ('{camada}', '{tabela}', '{desc}', {n_cols}, {qtd}, CURRENT_TIMESTAMP())\n",
    "    \"\"\")\n",
    "\n",
    "# 4. Consulta para verificação\n",
    "print(\"Catálogo criado com sucesso! Resumo:\")\n",
    "display(spark.sql(\"\"\"\n",
    "SELECT * FROM plastic_waste_catalog.master_metadata \n",
    "ORDER BY \n",
    "    CASE camada WHEN 'bronze' THEN 1 WHEN 'silver' THEN 2 ELSE 3 END,\n",
    "    tabela\n",
    "\"\"\"))"
   ]
  }
 ],
 "metadata": {
  "application/vnd.databricks.v1+notebook": {
   "computePreferences": null,
   "dashboards": [],
   "environmentMetadata": null,
   "inputWidgetPreferences": null,
   "language": "python",
   "notebookMetadata": {
    "mostRecentlyExecutedCommandWithImplicitDF": {
     "commandId": 813179808156354,
     "dataframes": [
      "_sqldf"
     ]
    },
    "pythonIndentUnit": 4
   },
   "notebookName": "MVP - Engenharia de Dados - Fabiane Gaspar",
   "widgets": {}
  }
 },
 "nbformat": 4,
 "nbformat_minor": 0
}